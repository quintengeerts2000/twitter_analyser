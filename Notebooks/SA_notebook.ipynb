{
 "cells": [
  {
   "cell_type": "code",
   "execution_count": 1,
   "metadata": {},
   "outputs": [],
   "source": [
    "#importing the necessary files\n",
    "import sys\n",
    "sys.path.insert(1, '/Users/quintengeerts/Desktop/Algos/twitter_analyser/twitter_analyser')"
   ]
  },
  {
   "cell_type": "code",
   "execution_count": 2,
   "metadata": {},
   "outputs": [],
   "source": [
    "import Tweet\n",
    "import TwitterUser"
   ]
  },
  {
   "cell_type": "code",
   "execution_count": 3,
   "metadata": {},
   "outputs": [],
   "source": [
    "#get the scraped twitterusers from the database\n",
    "UserDA = TwitterUser.TwitterUserDA()\n",
    "users = UserDA.load_all()"
   ]
  },
  {
   "cell_type": "code",
   "execution_count": 4,
   "metadata": {},
   "outputs": [
    {
     "name": "stdout",
     "output_type": "stream",
     "text": [
      "\n",
      "Twitter user: name = traderstewie, id = 52166809\n",
      "Twitter user: name = jmoneystonks, id = 1281015843044970496\n",
      "Twitter user: name = Thrackx, id = 40942576\n",
      "Twitter user: name = thetradejourney, id = 1208632009817354241\n",
      "Twitter user: name = TraderAmogh, id = 3270306985\n",
      "Twitter user: name = JackDamn, id = 58808528\n",
      "Twitter user: name = Scelliott81, id = 1611593304\n",
      "Twitter user: name = TradeWithNinja, id = 814893508066680832\n",
      "Twitter user: name = CitronResearch, id = 236953420\n",
      "Twitter user: name = MartyChargin, id = 58652546\n",
      "Twitter user: name = AdamMancini, id = 39117589\n",
      "Twitter user: name = HiddenPivots, id = 295299583\n",
      "Twitter user: name = Pharmdca, id = 1884013189\n",
      "Twitter user: name = Trader182, id = 1196947949013684224\n",
      "Twitter user: name = ChartingOptions, id = 1302069535147687936\n",
      "Twitter user: name = 87AlwaysRed, id = 930177090971877377\n",
      "Twitter user: name = AshwinSamant, id = 427170268\n",
      "Twitter user: name = AvatarAidan, id = 3083109892\n",
      "Twitter user: name = gvstrader, id = 1034036822081499141\n",
      "Twitter user: name = markminervini, id = 105353526\n",
      "Twitter user: name = yatesinvesting, id = 1118235493030866944\n"
     ]
    }
   ],
   "source": [
    "print(users)"
   ]
  },
  {
   "cell_type": "code",
   "execution_count": 16,
   "metadata": {},
   "outputs": [],
   "source": [
    "#get scraped tweets from the db\n",
    "TweetDA = Tweet.TweetDA()\n",
    "tweets = Tweet.TweetList('stonks')\n",
    "for usr in users:\n",
    "    twt = TweetDA.load_all(username='@'+usr.username)\n",
    "    tweets.add_all_tweets(twt)"
   ]
  },
  {
   "cell_type": "code",
   "execution_count": 6,
   "metadata": {},
   "outputs": [
    {
     "data": {
      "text/plain": [
       "40632"
      ]
     },
     "execution_count": 6,
     "metadata": {},
     "output_type": "execute_result"
    }
   ],
   "source": [
    "len(tweets.tweets)"
   ]
  },
  {
   "cell_type": "code",
   "execution_count": 15,
   "metadata": {},
   "outputs": [
    {
     "name": "stdout",
     "output_type": "stream",
     "text": [
      "==========================================================================\n",
      "Traderstewie: @traderstewie * 2013-02-01T20:52:03.000Z\n",
      "One of my top LONG ideas going into next week. Worth eyeing this setup in $C . Momentum play http://stks.co/cJkm \n",
      "--------------------------------------------------------------------------\n"
     ]
    }
   ],
   "source": [
    "#tweet looks like this\n",
    "print(tweets[10250])"
   ]
  },
  {
   "cell_type": "code",
   "execution_count": 90,
   "metadata": {},
   "outputs": [],
   "source": [
    "#Sentiment analysis is only usefull if the tweet contains a ticker so lets sort the tweets only for those\n",
    "def contains_ticker(txt):\n",
    "    #split the sentence\n",
    "    for word in txt.split():\n",
    "        #check if it contains a ticker\n",
    "        if word.startswith(\"$\") and word.replace('$','').isalpha():\n",
    "            return True\n",
    "    return False\n",
    "\n",
    "#noticed that a lot of replies to other peoples trade suggestion register as super bullish so i'll remove them \n",
    "def is_not_a_reply(txt):\n",
    "    for word in txt.split():\n",
    "        if word.startswith(\"@\"):\n",
    "            return False\n",
    "    return True"
   ]
  },
  {
   "cell_type": "code",
   "execution_count": 91,
   "metadata": {},
   "outputs": [
    {
     "data": {
      "text/plain": [
       "10426"
      ]
     },
     "execution_count": 91,
     "metadata": {},
     "output_type": "execute_result"
    }
   ],
   "source": [
    "filtered_tweets = Tweet.TweetList('filtered')\n",
    "#loop over the tweets to only keep the ones that contain a ticker\n",
    "for twt in tweets:\n",
    "    if contains_ticker(str(twt.text)) and is_not_a_reply(str(twt.text)):\n",
    "        filtered_tweets.add_tweet(twt)\n",
    "len(filtered_tweets.tweets)"
   ]
  },
  {
   "cell_type": "code",
   "execution_count": 92,
   "metadata": {},
   "outputs": [
    {
     "name": "stderr",
     "output_type": "stream",
     "text": [
      "10426it [01:00, 172.68it/s]\n"
     ]
    }
   ],
   "source": [
    "import pandas as pd\n",
    "import tqdm\n",
    "#initialise dataframe\n",
    "cols = ['username', 'screen_name','user_id', 'tweet_id', 'timestamp', 'text', 'likes', 'retweets', \n",
    "        'comments', 'emojis', 'image_link','is_reply', 'is_reply_to','URL', 'label']\n",
    "tweet_df = pd.DataFrame(columns=cols)\n",
    "for twt in tqdm.tqdm(filtered_tweets):\n",
    "    usrn = twt.username\n",
    "    scrn = twt.screen_name\n",
    "    usrid = twt.user_id\n",
    "    twtid = twt.tweet_id\n",
    "    time = twt.timestamp\n",
    "    txt = twt.text\n",
    "    like = twt.likes\n",
    "    rtwts = twt.retweets\n",
    "    comts = twt.comments\n",
    "    emji = twt.emojis\n",
    "    img = twt.image_link\n",
    "    isrpl = twt.is_reply\n",
    "    to = twt.is_reply_to\n",
    "    url = twt.URL\n",
    "    #create the row\n",
    "    row = pd.DataFrame([[usrn, scrn, usrid, twtid, time, txt, like, rtwts, comts, emji, img, isrpl, to, url, None]],\n",
    "                      columns=cols)\n",
    "    #append it to df\n",
    "    tweet_df = tweet_df.append(row)"
   ]
  },
  {
   "cell_type": "code",
   "execution_count": 93,
   "metadata": {},
   "outputs": [
    {
     "data": {
      "text/html": [
       "<div>\n",
       "<style scoped>\n",
       "    .dataframe tbody tr th:only-of-type {\n",
       "        vertical-align: middle;\n",
       "    }\n",
       "\n",
       "    .dataframe tbody tr th {\n",
       "        vertical-align: top;\n",
       "    }\n",
       "\n",
       "    .dataframe thead th {\n",
       "        text-align: right;\n",
       "    }\n",
       "</style>\n",
       "<table border=\"1\" class=\"dataframe\">\n",
       "  <thead>\n",
       "    <tr style=\"text-align: right;\">\n",
       "      <th></th>\n",
       "      <th>username</th>\n",
       "      <th>screen_name</th>\n",
       "      <th>user_id</th>\n",
       "      <th>tweet_id</th>\n",
       "      <th>timestamp</th>\n",
       "      <th>text</th>\n",
       "      <th>likes</th>\n",
       "      <th>retweets</th>\n",
       "      <th>comments</th>\n",
       "      <th>emojis</th>\n",
       "      <th>image_link</th>\n",
       "      <th>is_reply</th>\n",
       "      <th>is_reply_to</th>\n",
       "      <th>URL</th>\n",
       "      <th>label</th>\n",
       "    </tr>\n",
       "  </thead>\n",
       "  <tbody>\n",
       "    <tr>\n",
       "      <th>10421</th>\n",
       "      <td>@yatesinvesting</td>\n",
       "      <td>Yates Investing</td>\n",
       "      <td>1118235493030866944</td>\n",
       "      <td>94bb3d88e501ae50d2029055c144e9c96e2289d3</td>\n",
       "      <td>2021-02-04T13:37:45.000Z</td>\n",
       "      <td>Adding $btbt here</td>\n",
       "      <td>2</td>\n",
       "      <td>57</td>\n",
       "      <td>8</td>\n",
       "      <td>None</td>\n",
       "      <td>[]</td>\n",
       "      <td>0</td>\n",
       "      <td></td>\n",
       "      <td>https://twitter.com/yatesinvesting/status/1357...</td>\n",
       "      <td>None</td>\n",
       "    </tr>\n",
       "    <tr>\n",
       "      <th>10422</th>\n",
       "      <td>@yatesinvesting</td>\n",
       "      <td>Yates Investing</td>\n",
       "      <td>1118235493030866944</td>\n",
       "      <td>4f3c01fb5cc76440fa8b1e7feb370e26fdc54b60</td>\n",
       "      <td>2021-02-04T18:18:50.000Z</td>\n",
       "      <td>$ENZC</td>\n",
       "      <td>44</td>\n",
       "      <td>240</td>\n",
       "      <td>27</td>\n",
       "      <td>🔥</td>\n",
       "      <td>[]</td>\n",
       "      <td>0</td>\n",
       "      <td></td>\n",
       "      <td>https://twitter.com/yatesinvesting/status/1357...</td>\n",
       "      <td>None</td>\n",
       "    </tr>\n",
       "    <tr>\n",
       "      <th>10423</th>\n",
       "      <td>@yatesinvesting</td>\n",
       "      <td>Yates Investing</td>\n",
       "      <td>1118235493030866944</td>\n",
       "      <td>f3052070a5722f99607f7b23742c27e218b81906</td>\n",
       "      <td>2021-02-03T14:44:17.000Z</td>\n",
       "      <td>$cciv dips pay</td>\n",
       "      <td>20</td>\n",
       "      <td>288</td>\n",
       "      <td>15</td>\n",
       "      <td>None</td>\n",
       "      <td>[]</td>\n",
       "      <td>0</td>\n",
       "      <td></td>\n",
       "      <td>https://twitter.com/yatesinvesting/status/1356...</td>\n",
       "      <td>None</td>\n",
       "    </tr>\n",
       "    <tr>\n",
       "      <th>10424</th>\n",
       "      <td>@yatesinvesting</td>\n",
       "      <td>Yates Investing</td>\n",
       "      <td>1118235493030866944</td>\n",
       "      <td>0f4a506ca63e5739922fb384590d4ae22eb1e05a</td>\n",
       "      <td>2021-02-04T20:36:38.000Z</td>\n",
       "      <td>$AACG WOW</td>\n",
       "      <td>16</td>\n",
       "      <td>100</td>\n",
       "      <td>19</td>\n",
       "      <td>None</td>\n",
       "      <td>[]</td>\n",
       "      <td>0</td>\n",
       "      <td></td>\n",
       "      <td>https://twitter.com/yatesinvesting/status/1357...</td>\n",
       "      <td>None</td>\n",
       "    </tr>\n",
       "    <tr>\n",
       "      <th>10425</th>\n",
       "      <td>@yatesinvesting</td>\n",
       "      <td>Yates Investing</td>\n",
       "      <td>1118235493030866944</td>\n",
       "      <td>2e7a853023ad5f45477765d8b84a33dd9b4fde93</td>\n",
       "      <td>2021-02-03T22:21:44.000Z</td>\n",
       "      <td>$KMPH multi bagger coming.</td>\n",
       "      <td>55</td>\n",
       "      <td>301</td>\n",
       "      <td>32</td>\n",
       "      <td>None</td>\n",
       "      <td>[]</td>\n",
       "      <td>0</td>\n",
       "      <td></td>\n",
       "      <td>https://twitter.com/yatesinvesting/status/1357...</td>\n",
       "      <td>None</td>\n",
       "    </tr>\n",
       "  </tbody>\n",
       "</table>\n",
       "</div>"
      ],
      "text/plain": [
       "              username      screen_name              user_id  \\\n",
       "10421  @yatesinvesting  Yates Investing  1118235493030866944   \n",
       "10422  @yatesinvesting  Yates Investing  1118235493030866944   \n",
       "10423  @yatesinvesting  Yates Investing  1118235493030866944   \n",
       "10424  @yatesinvesting  Yates Investing  1118235493030866944   \n",
       "10425  @yatesinvesting  Yates Investing  1118235493030866944   \n",
       "\n",
       "                                       tweet_id                 timestamp  \\\n",
       "10421  94bb3d88e501ae50d2029055c144e9c96e2289d3  2021-02-04T13:37:45.000Z   \n",
       "10422  4f3c01fb5cc76440fa8b1e7feb370e26fdc54b60  2021-02-04T18:18:50.000Z   \n",
       "10423  f3052070a5722f99607f7b23742c27e218b81906  2021-02-03T14:44:17.000Z   \n",
       "10424  0f4a506ca63e5739922fb384590d4ae22eb1e05a  2021-02-04T20:36:38.000Z   \n",
       "10425  2e7a853023ad5f45477765d8b84a33dd9b4fde93  2021-02-03T22:21:44.000Z   \n",
       "\n",
       "                              text likes retweets comments emojis image_link  \\\n",
       "10421           Adding $btbt here      2       57        8   None         []   \n",
       "10422                      $ENZC      44      240       27      🔥         []   \n",
       "10423              $cciv dips pay     20      288       15   None         []   \n",
       "10424                   $AACG WOW     16      100       19   None         []   \n",
       "10425  $KMPH multi bagger coming.     55      301       32   None         []   \n",
       "\n",
       "      is_reply is_reply_to                                                URL  \\\n",
       "10421        0              https://twitter.com/yatesinvesting/status/1357...   \n",
       "10422        0              https://twitter.com/yatesinvesting/status/1357...   \n",
       "10423        0              https://twitter.com/yatesinvesting/status/1356...   \n",
       "10424        0              https://twitter.com/yatesinvesting/status/1357...   \n",
       "10425        0              https://twitter.com/yatesinvesting/status/1357...   \n",
       "\n",
       "      label  \n",
       "10421  None  \n",
       "10422  None  \n",
       "10423  None  \n",
       "10424  None  \n",
       "10425  None  "
      ]
     },
     "execution_count": 93,
     "metadata": {},
     "output_type": "execute_result"
    }
   ],
   "source": [
    "#add an index so I can get rows like this\n",
    "index = pd.Index(range(0,len(tweet_df)))\n",
    "tweet_df = tweet_df.set_index(index)\n",
    "tweet_df.tail()"
   ]
  },
  {
   "cell_type": "markdown",
   "metadata": {},
   "source": [
    "---\n",
    "I'll use vader NLP package to begin with, even though it probably wont be a very good model for sentiment analysis on this data"
   ]
  },
  {
   "cell_type": "code",
   "execution_count": 70,
   "metadata": {},
   "outputs": [
    {
     "name": "stderr",
     "output_type": "stream",
     "text": [
      "[nltk_data] Downloading package vader_lexicon to\n",
      "[nltk_data]     /Users/quintengeerts/nltk_data...\n"
     ]
    },
    {
     "data": {
      "text/plain": [
       "True"
      ]
     },
     "execution_count": 70,
     "metadata": {},
     "output_type": "execute_result"
    }
   ],
   "source": [
    "#import the NLP package and download model\n",
    "import nltk\n",
    "nltk.download('vader_lexicon')"
   ]
  },
  {
   "cell_type": "code",
   "execution_count": 94,
   "metadata": {},
   "outputs": [
    {
     "name": "stderr",
     "output_type": "stream",
     "text": [
      "100%|██████████| 10426/10426 [01:08<00:00, 152.53it/s]\n"
     ]
    }
   ],
   "source": [
    "from nltk.sentiment.vader import SentimentIntensityAnalyzer as SIA\n",
    "#run the sentiment analysis on the data\n",
    "results = list()\n",
    "for txt in tqdm.tqdm(tweet_df['text']):\n",
    "    score = SIA().polarity_scores(txt)\n",
    "    score['txt'] = txt\n",
    "    results.append(score)"
   ]
  },
  {
   "cell_type": "code",
   "execution_count": 100,
   "metadata": {},
   "outputs": [
    {
     "data": {
      "text/plain": [
       "461"
      ]
     },
     "execution_count": 100,
     "metadata": {},
     "output_type": "execute_result"
    }
   ],
   "source": [
    "#only use the sufficiently bullish and bearish tweets\n",
    "res_filtered = list()\n",
    "for i in results:\n",
    "    if abs(i['compound']) > 0.8:\n",
    "        res_filtered.append(i)\n",
    "len(res_filtered)"
   ]
  }
 ],
 "metadata": {
  "kernelspec": {
   "display_name": "Python 3",
   "language": "python",
   "name": "python3"
  },
  "language_info": {
   "codemirror_mode": {
    "name": "ipython",
    "version": 3
   },
   "file_extension": ".py",
   "mimetype": "text/x-python",
   "name": "python",
   "nbconvert_exporter": "python",
   "pygments_lexer": "ipython3",
   "version": "3.7.6"
  }
 },
 "nbformat": 4,
 "nbformat_minor": 4
}
